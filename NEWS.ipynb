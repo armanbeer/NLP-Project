{
 "cells": [
  {
   "cell_type": "code",
   "execution_count": 1,
   "metadata": {
    "id": "EkG3DyRyoMqR"
   },
   "outputs": [],
   "source": [
    "import pandas as pd\n",
    "import numpy as np\n",
    "from scipy.sparse import hstack, csr_matrix\n",
    "from textblob import TextBlob\n",
    "import nltk\n",
    "import re\n",
    "import datetime\n",
    "import matplotlib.pyplot as plt\n",
    "from nltk.corpus import stopwords \n",
    "from nltk.tokenize import word_tokenize\n",
    "from nltk.stem import WordNetLemmatizer, PorterStemmer\n",
    "from sklearn.feature_extraction.text import CountVectorizer, TfidfVectorizer\n",
    "from sklearn.preprocessing import LabelEncoder, StandardScaler\n",
    "from sklearn.model_selection import train_test_split\n",
    "from sklearn.decomposition import TruncatedSVD\n",
    "from sklearn.svm import LinearSVR\n",
    "import lightgbm as lgb\n",
    "from sklearn.ensemble import RandomForestRegressor\n",
    "from sklearn.metrics import mean_absolute_error\n",
    "\n",
    "%matplotlib inline"
   ]
  },
  {
   "cell_type": "markdown",
   "metadata": {
    "id": "7LP3vxPZH261"
   },
   "source": [
    "Read data files"
   ]
  },
  {
   "cell_type": "code",
   "execution_count": 2,
   "metadata": {
    "id": "2yKewT77pEmf"
   },
   "outputs": [],
   "source": [
    "train = pd.read_csv('/content/train_file.csv')\n",
    "test = pd.read_csv('/content/test_file.csv')\n",
    "submission = pd.read_csv('/content/sample_submission.csv')\n",
    "test_id = test['IDLink']"
   ]
  },
  {
   "cell_type": "markdown",
   "metadata": {
    "id": "9E_T1MncIEHb"
   },
   "source": [
    "Explore data"
   ]
  },
  {
   "cell_type": "code",
   "execution_count": 3,
   "metadata": {
    "colab": {
     "base_uri": "https://localhost:8080/",
     "height": 674
    },
    "id": "SPx6wg5rpdhQ",
    "outputId": "b8642e28-7244-4fea-dc4c-8d00afa14217"
   },
   "outputs": [
    {
     "data": {
      "text/html": [
       "<div>\n",
       "<style scoped>\n",
       "    .dataframe tbody tr th:only-of-type {\n",
       "        vertical-align: middle;\n",
       "    }\n",
       "\n",
       "    .dataframe tbody tr th {\n",
       "        vertical-align: top;\n",
       "    }\n",
       "\n",
       "    .dataframe thead th {\n",
       "        text-align: right;\n",
       "    }\n",
       "</style>\n",
       "<table border=\"1\" class=\"dataframe\">\n",
       "  <thead>\n",
       "    <tr style=\"text-align: right;\">\n",
       "      <th></th>\n",
       "      <th>IDLink</th>\n",
       "      <th>Title</th>\n",
       "      <th>Headline</th>\n",
       "      <th>Source</th>\n",
       "      <th>Topic</th>\n",
       "      <th>PublishDate</th>\n",
       "      <th>Facebook</th>\n",
       "      <th>GooglePlus</th>\n",
       "      <th>LinkedIn</th>\n",
       "      <th>SentimentTitle</th>\n",
       "      <th>SentimentHeadline</th>\n",
       "    </tr>\n",
       "  </thead>\n",
       "  <tbody>\n",
       "    <tr>\n",
       "      <th>0</th>\n",
       "      <td>Tr3CMgRv1N</td>\n",
       "      <td>Obama Lays Wreath at Arlington National Cemetery</td>\n",
       "      <td>Obama Lays Wreath at Arlington National Cemete...</td>\n",
       "      <td>USA TODAY</td>\n",
       "      <td>obama</td>\n",
       "      <td>2002-04-02 00:00:00</td>\n",
       "      <td>-1</td>\n",
       "      <td>-1</td>\n",
       "      <td>-1</td>\n",
       "      <td>0.000000</td>\n",
       "      <td>-0.053300</td>\n",
       "    </tr>\n",
       "    <tr>\n",
       "      <th>1</th>\n",
       "      <td>Wc81vGp8qZ</td>\n",
       "      <td>A Look at the Health of the Chinese Economy</td>\n",
       "      <td>Tim Haywood, investment director business-unit...</td>\n",
       "      <td>Bloomberg</td>\n",
       "      <td>economy</td>\n",
       "      <td>2008-09-20 00:00:00</td>\n",
       "      <td>-1</td>\n",
       "      <td>-1</td>\n",
       "      <td>-1</td>\n",
       "      <td>0.208333</td>\n",
       "      <td>-0.156386</td>\n",
       "    </tr>\n",
       "    <tr>\n",
       "      <th>2</th>\n",
       "      <td>zNGH03CrZH</td>\n",
       "      <td>Nouriel Roubini: Global Economy Not Back to 2008</td>\n",
       "      <td>Nouriel Roubini, NYU professor and chairman at...</td>\n",
       "      <td>Bloomberg</td>\n",
       "      <td>economy</td>\n",
       "      <td>2012-01-28 00:00:00</td>\n",
       "      <td>-1</td>\n",
       "      <td>-1</td>\n",
       "      <td>-1</td>\n",
       "      <td>-0.425210</td>\n",
       "      <td>0.139754</td>\n",
       "    </tr>\n",
       "    <tr>\n",
       "      <th>3</th>\n",
       "      <td>3sM1H0W8ts</td>\n",
       "      <td>Finland GDP Expands In Q4</td>\n",
       "      <td>Finland's economy expanded marginally in the t...</td>\n",
       "      <td>RTT News</td>\n",
       "      <td>economy</td>\n",
       "      <td>2015-03-01 00:06:00</td>\n",
       "      <td>-1</td>\n",
       "      <td>-1</td>\n",
       "      <td>-1</td>\n",
       "      <td>0.000000</td>\n",
       "      <td>0.026064</td>\n",
       "    </tr>\n",
       "    <tr>\n",
       "      <th>4</th>\n",
       "      <td>wUbnxgvqaZ</td>\n",
       "      <td>Tourism, govt spending buoys Thai economy in J...</td>\n",
       "      <td>Tourism and public spending continued to boost...</td>\n",
       "      <td>The Nation - Thailand&amp;#39;s English news</td>\n",
       "      <td>economy</td>\n",
       "      <td>2015-03-01 00:11:00</td>\n",
       "      <td>-1</td>\n",
       "      <td>-1</td>\n",
       "      <td>-1</td>\n",
       "      <td>0.000000</td>\n",
       "      <td>0.141084</td>\n",
       "    </tr>\n",
       "  </tbody>\n",
       "</table>\n",
       "</div>"
      ],
      "text/plain": [
       "       IDLink  ... SentimentHeadline\n",
       "0  Tr3CMgRv1N  ...         -0.053300\n",
       "1  Wc81vGp8qZ  ...         -0.156386\n",
       "2  zNGH03CrZH  ...          0.139754\n",
       "3  3sM1H0W8ts  ...          0.026064\n",
       "4  wUbnxgvqaZ  ...          0.141084\n",
       "\n",
       "[5 rows x 11 columns]"
      ]
     },
     "execution_count": 3,
     "metadata": {},
     "output_type": "execute_result"
    }
   ],
   "source": [
    "train.head()"
   ]
  },
  {
   "cell_type": "code",
   "execution_count": 4,
   "metadata": {
    "colab": {
     "base_uri": "https://localhost:8080/"
    },
    "id": "v5g0ezVHJmrh",
    "outputId": "a05a2050-1488-44dd-ca72-18de4211ca78"
   },
   "outputs": [
    {
     "name": "stdout",
     "output_type": "stream",
     "text": [
      "<class 'pandas.core.frame.DataFrame'>\n",
      "RangeIndex: 55932 entries, 0 to 55931\n",
      "Data columns (total 11 columns):\n",
      " #   Column             Non-Null Count  Dtype  \n",
      "---  ------             --------------  -----  \n",
      " 0   IDLink             55932 non-null  object \n",
      " 1   Title              55932 non-null  object \n",
      " 2   Headline           55932 non-null  object \n",
      " 3   Source             55757 non-null  object \n",
      " 4   Topic              55932 non-null  object \n",
      " 5   PublishDate        55932 non-null  object \n",
      " 6   Facebook           55932 non-null  int64  \n",
      " 7   GooglePlus         55932 non-null  int64  \n",
      " 8   LinkedIn           55932 non-null  int64  \n",
      " 9   SentimentTitle     55932 non-null  float64\n",
      " 10  SentimentHeadline  55932 non-null  float64\n",
      "dtypes: float64(2), int64(3), object(6)\n",
      "memory usage: 4.7+ MB\n"
     ]
    }
   ],
   "source": [
    "train.info()"
   ]
  },
  {
   "cell_type": "code",
   "execution_count": 5,
   "metadata": {
    "colab": {
     "base_uri": "https://localhost:8080/",
     "height": 294
    },
    "id": "El0FyBQyJqk9",
    "outputId": "0cde5791-43a4-456b-c747-0e1740c21ae9"
   },
   "outputs": [
    {
     "data": {
      "text/html": [
       "<div>\n",
       "<style scoped>\n",
       "    .dataframe tbody tr th:only-of-type {\n",
       "        vertical-align: middle;\n",
       "    }\n",
       "\n",
       "    .dataframe tbody tr th {\n",
       "        vertical-align: top;\n",
       "    }\n",
       "\n",
       "    .dataframe thead th {\n",
       "        text-align: right;\n",
       "    }\n",
       "</style>\n",
       "<table border=\"1\" class=\"dataframe\">\n",
       "  <thead>\n",
       "    <tr style=\"text-align: right;\">\n",
       "      <th></th>\n",
       "      <th>Facebook</th>\n",
       "      <th>GooglePlus</th>\n",
       "      <th>LinkedIn</th>\n",
       "      <th>SentimentTitle</th>\n",
       "      <th>SentimentHeadline</th>\n",
       "    </tr>\n",
       "  </thead>\n",
       "  <tbody>\n",
       "    <tr>\n",
       "      <th>count</th>\n",
       "      <td>55932.000000</td>\n",
       "      <td>55932.000000</td>\n",
       "      <td>55932.000000</td>\n",
       "      <td>55932.000000</td>\n",
       "      <td>55932.000000</td>\n",
       "    </tr>\n",
       "    <tr>\n",
       "      <th>mean</th>\n",
       "      <td>132.050329</td>\n",
       "      <td>4.551616</td>\n",
       "      <td>14.300132</td>\n",
       "      <td>-0.006318</td>\n",
       "      <td>-0.029577</td>\n",
       "    </tr>\n",
       "    <tr>\n",
       "      <th>std</th>\n",
       "      <td>722.931314</td>\n",
       "      <td>21.137177</td>\n",
       "      <td>76.651420</td>\n",
       "      <td>0.137569</td>\n",
       "      <td>0.143038</td>\n",
       "    </tr>\n",
       "    <tr>\n",
       "      <th>min</th>\n",
       "      <td>-1.000000</td>\n",
       "      <td>-1.000000</td>\n",
       "      <td>-1.000000</td>\n",
       "      <td>-0.838525</td>\n",
       "      <td>-0.755355</td>\n",
       "    </tr>\n",
       "    <tr>\n",
       "      <th>25%</th>\n",
       "      <td>0.000000</td>\n",
       "      <td>0.000000</td>\n",
       "      <td>0.000000</td>\n",
       "      <td>-0.079057</td>\n",
       "      <td>-0.116927</td>\n",
       "    </tr>\n",
       "    <tr>\n",
       "      <th>50%</th>\n",
       "      <td>6.000000</td>\n",
       "      <td>0.000000</td>\n",
       "      <td>0.000000</td>\n",
       "      <td>0.000000</td>\n",
       "      <td>-0.027277</td>\n",
       "    </tr>\n",
       "    <tr>\n",
       "      <th>75%</th>\n",
       "      <td>37.000000</td>\n",
       "      <td>2.000000</td>\n",
       "      <td>4.000000</td>\n",
       "      <td>0.063969</td>\n",
       "      <td>0.057354</td>\n",
       "    </tr>\n",
       "    <tr>\n",
       "      <th>max</th>\n",
       "      <td>49211.000000</td>\n",
       "      <td>1267.000000</td>\n",
       "      <td>3716.000000</td>\n",
       "      <td>0.962354</td>\n",
       "      <td>0.964646</td>\n",
       "    </tr>\n",
       "  </tbody>\n",
       "</table>\n",
       "</div>"
      ],
      "text/plain": [
       "           Facebook    GooglePlus  ...  SentimentTitle  SentimentHeadline\n",
       "count  55932.000000  55932.000000  ...    55932.000000       55932.000000\n",
       "mean     132.050329      4.551616  ...       -0.006318          -0.029577\n",
       "std      722.931314     21.137177  ...        0.137569           0.143038\n",
       "min       -1.000000     -1.000000  ...       -0.838525          -0.755355\n",
       "25%        0.000000      0.000000  ...       -0.079057          -0.116927\n",
       "50%        6.000000      0.000000  ...        0.000000          -0.027277\n",
       "75%       37.000000      2.000000  ...        0.063969           0.057354\n",
       "max    49211.000000   1267.000000  ...        0.962354           0.964646\n",
       "\n",
       "[8 rows x 5 columns]"
      ]
     },
     "execution_count": 5,
     "metadata": {},
     "output_type": "execute_result"
    }
   ],
   "source": [
    "train.describe()"
   ]
  },
  {
   "cell_type": "markdown",
   "metadata": {
    "id": "BIH3SHb1HoHu"
   },
   "source": [
    "Check for missing values"
   ]
  },
  {
   "cell_type": "code",
   "execution_count": 6,
   "metadata": {
    "colab": {
     "base_uri": "https://localhost:8080/"
    },
    "id": "3lG2TH0uG9n_",
    "outputId": "c8093050-323e-41f1-d7d2-04d5f1034872"
   },
   "outputs": [
    {
     "data": {
      "text/plain": [
       "IDLink                 0\n",
       "Title                  0\n",
       "Headline               0\n",
       "Source               175\n",
       "Topic                  0\n",
       "PublishDate            0\n",
       "Facebook               0\n",
       "GooglePlus             0\n",
       "LinkedIn               0\n",
       "SentimentTitle         0\n",
       "SentimentHeadline      0\n",
       "dtype: int64"
      ]
     },
     "execution_count": 6,
     "metadata": {},
     "output_type": "execute_result"
    }
   ],
   "source": [
    "train.isnull().sum()"
   ]
  },
  {
   "cell_type": "code",
   "execution_count": 7,
   "metadata": {
    "colab": {
     "base_uri": "https://localhost:8080/"
    },
    "id": "jhorvLs0HrLy",
    "outputId": "4dde1788-af47-4ce6-8031-3c3f7fd79177"
   },
   "outputs": [
    {
     "data": {
      "text/plain": [
       "IDLink           0\n",
       "Title            0\n",
       "Headline         0\n",
       "Source         101\n",
       "Topic            0\n",
       "PublishDate      0\n",
       "Facebook         0\n",
       "GooglePlus       0\n",
       "LinkedIn         0\n",
       "dtype: int64"
      ]
     },
     "execution_count": 7,
     "metadata": {},
     "output_type": "execute_result"
    }
   ],
   "source": [
    "test.isnull().sum()"
   ]
  },
  {
   "cell_type": "code",
   "execution_count": 9,
   "metadata": {
    "colab": {
     "base_uri": "https://localhost:8080/"
    },
    "id": "yFKwEroWXhIO",
    "outputId": "6768933f-20ec-4296-e555-9407b901f4cb"
   },
   "outputs": [
    {
     "data": {
      "text/plain": [
       "Bloomberg           992\n",
       "Reuters             763\n",
       "ABC News            645\n",
       "New York Times      573\n",
       "The Guardian        551\n",
       "Business Insider    550\n",
       "Name: Source, dtype: int64"
      ]
     },
     "execution_count": 9,
     "metadata": {},
     "output_type": "execute_result"
    }
   ],
   "source": [
    "train['Source'].value_counts()[:6\n",
    "                            ]"
   ]
  },
  {
   "cell_type": "code",
   "execution_count": 10,
   "metadata": {
    "id": "QkGs0XdQYiNm"
   },
   "outputs": [],
   "source": [
    "train['Source'] = train['Source'].fillna('Bloomberg')\n",
    "test['Source'] = test['Source'].fillna('Bloomberg')"
   ]
  },
  {
   "cell_type": "markdown",
   "metadata": {
    "id": "a0aY5MThIbci"
   },
   "source": [
    "Text columns processing and cleaning"
   ]
  },
  {
   "cell_type": "code",
   "execution_count": 11,
   "metadata": {
    "colab": {
     "base_uri": "https://localhost:8080/"
    },
    "id": "N0rMLhutqzT6",
    "outputId": "cc7afaa0-18e4-4a15-cc78-4ac18239f580"
   },
   "outputs": [
    {
     "name": "stdout",
     "output_type": "stream",
     "text": [
      "[nltk_data] Downloading package stopwords to /root/nltk_data...\n",
      "[nltk_data]   Unzipping corpora/stopwords.zip.\n",
      "[nltk_data] Downloading package punkt to /root/nltk_data...\n",
      "[nltk_data]   Unzipping tokenizers/punkt.zip.\n",
      "[nltk_data] Downloading package wordnet to /root/nltk_data...\n",
      "[nltk_data]   Unzipping corpora/wordnet.zip.\n"
     ]
    }
   ],
   "source": [
    "nltk.download('stopwords')\n",
    "nltk.download('punkt')\n",
    "nltk.download('wordnet')\n",
    "\n",
    "stop = set(stopwords.words('english'))\n",
    "\n",
    "def clean(text):\n",
    "  text_token = word_tokenize(text)\n",
    "  filtered_text = ' '.join([w.lower() for w in text_token if w.lower() not in stop and len(w) > 2])\n",
    "  filtered_text = filtered_text.replace(r\"[^a-zA-Z]+\", '')\n",
    "  text_only = re.sub(r'\\b\\d+\\b', '', filtered_text)\n",
    "  clean_text = text_only.replace(',', '').replace('.', '').replace(':', '')\n",
    "  return clean_text"
   ]
  },
  {
   "cell_type": "code",
   "execution_count": 12,
   "metadata": {
    "id": "Yv0gu0iAYmsq"
   },
   "outputs": [],
   "source": [
    "train['Text_Title'] = train['Title'] + ' ' + train['Source'] + ' ' + train['Topic']\n",
    "test['Text_Title'] = test['Title'] + ' ' + test['Source'] + ' ' + test['Topic']\n",
    "\n",
    "train['Text_Headline'] = train['Headline'] + ' ' + train['Source'] + ' ' + train['Topic']\n",
    "test['Text_Headline'] = test['Headline'] + ' ' + test['Source'] + ' ' + test['Topic']"
   ]
  },
  {
   "cell_type": "code",
   "execution_count": 13,
   "metadata": {
    "colab": {
     "base_uri": "https://localhost:8080/",
     "height": 35
    },
    "id": "t0InOm6jads0",
    "outputId": "8fe5dbfe-6078-4480-c34f-8658ce23af03"
   },
   "outputs": [
    {
     "data": {
      "application/vnd.google.colaboratory.intrinsic+json": {
       "type": "string"
      },
      "text/plain": [
       "'Monday, 29 Feb 2016 Bloomberg palestine'"
      ]
     },
     "execution_count": 13,
     "metadata": {},
     "output_type": "execute_result"
    }
   ],
   "source": [
    "train['Text_Title'][6]"
   ]
  },
  {
   "cell_type": "code",
   "execution_count": 14,
   "metadata": {
    "id": "5G7H85q6t_ND"
   },
   "outputs": [],
   "source": [
    "train['Text_Title'] = [clean(x) for x in train['Text_Title']]\n",
    "test['Text_Title'] = [clean(x) for x in test['Text_Title']]\n",
    "\n",
    "train['Text_Headline'] = [clean(x) for x in train['Text_Headline']]\n",
    "test['Text_Headline'] = [clean(x) for x in test['Text_Headline']]"
   ]
  },
  {
   "cell_type": "code",
   "execution_count": 15,
   "metadata": {
    "colab": {
     "base_uri": "https://localhost:8080/",
     "height": 35
    },
    "id": "6XcNTv0rCswW",
    "outputId": "7e7abec8-4ddb-4ca2-86a2-76d6151e06c7"
   },
   "outputs": [
    {
     "data": {
      "application/vnd.google.colaboratory.intrinsic+json": {
       "type": "string"
      },
      "text/plain": [
       "'monday feb  bloomberg palestine'"
      ]
     },
     "execution_count": 15,
     "metadata": {},
     "output_type": "execute_result"
    }
   ],
   "source": [
    "train['Text_Title'][6]"
   ]
  },
  {
   "cell_type": "code",
   "execution_count": 17,
   "metadata": {
    "id": "7l6LxTKKY3mX"
   },
   "outputs": [],
   "source": [
    "text = \"\"\n",
    "for ind, row in train.iterrows():\n",
    "    text += row[\"Text_Title\"] + \" \"\n",
    "text = text.strip()\n",
    "\n"
   ]
  },
  {
   "cell_type": "code",
   "execution_count": 18,
   "metadata": {
    "id": "jwktHNV5Zd82"
   },
   "outputs": [],
   "source": [
    "text = \"\"\n",
    "for ind, row in train.iterrows():\n",
    "    text += row[\"Text_Headline\"] + \" \"\n",
    "text = text.strip()\n",
    "\n"
   ]
  },
  {
   "cell_type": "markdown",
   "metadata": {
    "id": "fyA6ZBUDItIt"
   },
   "source": [
    "Feature extraction from text data"
   ]
  },
  {
   "cell_type": "code",
   "execution_count": 19,
   "metadata": {
    "id": "R2c_QE3z_ZpU"
   },
   "outputs": [],
   "source": [
    "vectorizer = TfidfVectorizer(use_idf=True)\n",
    "\n",
    "train_v_Title = vectorizer.fit_transform(train['Text_Title'])\n",
    "test_v_Title = vectorizer.transform(test['Text_Title'])\n",
    "\n",
    "vectorizer_ = TfidfVectorizer()\n",
    "\n",
    "train_v_Headline = vectorizer_.fit_transform(train['Text_Headline'])\n",
    "test_v_Headline = vectorizer_.transform(test['Text_Headline'])"
   ]
  },
  {
   "cell_type": "markdown",
   "metadata": {
    "id": "PKTDHxeKntxb"
   },
   "source": [
    "SVD to reduce dimensions"
   ]
  },
  {
   "cell_type": "code",
   "execution_count": null,
   "metadata": {
    "id": "HYe1JZOfnp9s"
   },
   "outputs": [],
   "source": [
    "# svd = TruncatedSVD(n_components=20)\n",
    "\n",
    "# train_v_Title = svd.fit_transform(train_v_Title)\n",
    "# test_v_Title = svd.transform(test_v_Title)\n",
    "\n",
    "# train_v_Headline = svd.fit_transform(train_v_Headline)\n",
    "# test_v_Headline = svd.transform(test_v_Headline)"
   ]
  },
  {
   "cell_type": "markdown",
   "metadata": {
    "id": "JV8OdU-EbLYm"
   },
   "source": [
    "Calculate sentiment of text data"
   ]
  },
  {
   "cell_type": "code",
   "execution_count": 20,
   "metadata": {
    "id": "RRE66bmobHt6"
   },
   "outputs": [],
   "source": [
    "train['polarity_t'] = train['Title'].apply(lambda x: TextBlob(x).sentiment.polarity)\n",
    "test['polarity_t'] = test['Title'].apply(lambda x: TextBlob(x).sentiment.polarity)\n",
    "\n",
    "train['subjectivity_t'] = train['Title'].apply(lambda x: TextBlob(x).sentiment.subjectivity)\n",
    "test['subjectivity_t'] = test['Title'].apply(lambda x: TextBlob(x).sentiment.subjectivity)"
   ]
  },
  {
   "cell_type": "code",
   "execution_count": 21,
   "metadata": {
    "id": "8AbVMKrtbozG"
   },
   "outputs": [],
   "source": [
    "train['polarity_h'] = train['Headline'].apply(lambda x: TextBlob(x).sentiment.polarity)\n",
    "test['polarity_h'] = test['Headline'].apply(lambda x: TextBlob(x).sentiment.polarity)\n",
    "\n",
    "train['subjectivity_h'] = train['Headline'].apply(lambda x: TextBlob(x).sentiment.subjectivity)\n",
    "test['subjectivity_h'] = test['Headline'].apply(lambda x: TextBlob(x).sentiment.subjectivity)"
   ]
  },
  {
   "cell_type": "markdown",
   "metadata": {
    "id": "6sx3xq7xbxQt"
   },
   "source": [
    "Encode categorical columns"
   ]
  },
  {
   "cell_type": "code",
   "execution_count": 22,
   "metadata": {
    "id": "Tw0G0avgbzig"
   },
   "outputs": [],
   "source": [
    "encoder = LabelEncoder()\n",
    "\n",
    "train['Topic'] = encoder.fit_transform(train['Topic'])\n",
    "test['Topic'] = encoder.transform(test['Topic'])\n",
    "\n",
    "total = train['Source'].to_list() + test['Source'].to_list()\n",
    "total = encoder.fit_transform(total)\n",
    "train['Source'] = encoder.transform(train['Source'])\n",
    "test['Source'] = encoder.transform(test['Source'])"
   ]
  },
  {
   "cell_type": "markdown",
   "metadata": {
    "id": "ejUGLtC8cH19"
   },
   "source": [
    "Meta Features"
   ]
  },
  {
   "cell_type": "code",
   "execution_count": 23,
   "metadata": {
    "id": "ejrVA103oTCk"
   },
   "outputs": [],
   "source": [
    "# Get day-type(monday, tuesday) from datetime\n",
    "\n",
    "train_weekday = []\n",
    "test_weekday = []\n",
    "\n",
    "for i in train['PublishDate']:\n",
    "    train_weekday.append(datetime.datetime.strptime(i, \"%Y-%m-%d %H:%M:%S\").strftime(\"%A\"))\n",
    "    \n",
    "for i in test['PublishDate']:\n",
    "    test_weekday.append(datetime.datetime.strptime(i, \"%Y-%m-%d %H:%M:%S\").strftime(\"%A\"))\n",
    "\n",
    "train['weekday'] = train_weekday\n",
    "test['weekday'] = test_weekday\n",
    "\n",
    "\n",
    "# convert weekday to 0-6\n",
    "\n",
    "train['weekday'] = train['weekday'].map({'Monday': 0,\n",
    "                                        'Tuesday': 1,\n",
    "                                        'Wednesday': 2,\n",
    "                                        'Thursday': 3,\n",
    "                                        'Friday': 4,\n",
    "                                        'Saturday': 5,\n",
    "                                        'Sunday': 6})\n",
    "test['weekday'] = test['weekday'].map({'Monday': 0,\n",
    "                                        'Tuesday': 1,\n",
    "                                        'Wednesday': 2,\n",
    "                                        'Thursday': 3,\n",
    "                                        'Friday': 4,\n",
    "                                        'Saturday': 5,\n",
    "                                        'Sunday': 6})"
   ]
  },
  {
   "cell_type": "code",
   "execution_count": 24,
   "metadata": {
    "id": "fqdeCTDLmzWh"
   },
   "outputs": [],
   "source": [
    "# Hour from date\n",
    "\n",
    "train[\"hour\"] = train[\"PublishDate\"].apply(lambda x: x.split()[1].split(':')[0])\n",
    "test[\"hour\"] = test[\"PublishDate\"].apply(lambda x: x.split()[1].split(':')[0])"
   ]
  },
  {
   "cell_type": "code",
   "execution_count": 25,
   "metadata": {
    "id": "MKYQYq7LcKyb"
   },
   "outputs": [],
   "source": [
    "# Number of words in the Title \n",
    "train[\"num_words_t\"] = train[\"Text_Title\"].apply(lambda x: len(str(x).split()))\n",
    "test[\"num_words_t\"] = test[\"Text_Title\"].apply(lambda x: len(str(x).split()))\n",
    "\n",
    "# Number of unique words in the Title \n",
    "train[\"num_unique_words_t\"] = train[\"Text_Title\"].apply(lambda x: len(set(str(x).split())))\n",
    "test[\"num_unique_words_t\"] = test[\"Text_Title\"].apply(lambda x: len(set(str(x).split())))\n",
    "\n",
    "# Number of characters in the Title \n",
    "train[\"num_chars_t\"] = train[\"Text_Title\"].apply(lambda x: len(str(x)))\n",
    "test[\"num_chars_t\"] = test[\"Text_Title\"].apply(lambda x: len(str(x)))\n",
    "\n",
    "# Average length of the words in the Title \n",
    "train[\"mean_word_len_t\"] = train[\"Text_Title\"].apply(lambda x: np.mean([len(w) for w in str(x).split()]))\n",
    "test[\"mean_word_len_t\"] = test[\"Text_Title\"].apply(lambda x: np.mean([len(w) for w in str(x).split()]))"
   ]
  },
  {
   "cell_type": "code",
   "execution_count": 26,
   "metadata": {
    "id": "InxBp_3cg0ak"
   },
   "outputs": [],
   "source": [
    "# Number of words in the Headline \n",
    "train[\"num_words_h\"] = train[\"Text_Headline\"].apply(lambda x: len(str(x).split()))\n",
    "test[\"num_words_h\"] = test[\"Text_Headline\"].apply(lambda x: len(str(x).split()))\n",
    "\n",
    "# Number of unique words in the Headline \n",
    "train[\"num_unique_words_h\"] = train[\"Text_Headline\"].apply(lambda x: len(set(str(x).split())))\n",
    "test[\"num_unique_words_h\"] = test[\"Text_Headline\"].apply(lambda x: len(set(str(x).split())))\n",
    "\n",
    "# Number of characters in the Headline \n",
    "train[\"num_chars_h\"] = train[\"Text_Headline\"].apply(lambda x: len(str(x)))\n",
    "test[\"num_chars_h\"] = test[\"Text_Headline\"].apply(lambda x: len(str(x)))\n",
    "\n",
    "# Average length of the words in the Headline \n",
    "train[\"mean_word_len_h\"] = train[\"Text_Headline\"].apply(lambda x: np.mean([len(w) for w in str(x).split()]))\n",
    "test[\"mean_word_len_h\"] = test[\"Text_Headline\"].apply(lambda x: np.mean([len(w) for w in str(x).split()]))"
   ]
  },
  {
   "cell_type": "code",
   "execution_count": 27,
   "metadata": {
    "id": "avWWnnWPeGu1"
   },
   "outputs": [],
   "source": [
    "scaler = StandardScaler()\n",
    "\n",
    "cols = ['Source', 'Topic', 'Facebook', 'GooglePlus', 'LinkedIn', 'num_words_t', 'num_unique_words_t', 'num_chars_t', 'mean_word_len_t',\n",
    "        'num_words_h', 'num_unique_words_h', 'num_chars_h', 'mean_word_len_h', 'hour', 'weekday']\n",
    "\n",
    "for col in cols:\n",
    "  train[col] = scaler.fit_transform(train[col].values.reshape(-1, 1))\n",
    "  test[col] = scaler.transform(test[col].values.reshape(-1, 1))"
   ]
  },
  {
   "cell_type": "code",
   "execution_count": 28,
   "metadata": {
    "id": "Z3vjf58SccsC"
   },
   "outputs": [],
   "source": [
    "\n",
    "cols_t = ['Source', 'Topic', 'Facebook', 'GooglePlus', 'LinkedIn', 'num_words_t', 'num_unique_words_t', 'num_chars_t', 'mean_word_len_t', 'polarity_t', 'subjectivity_t', 'hour', 'weekday']\n",
    "train_X1 = train[cols_t]\n",
    "test_X1 = test[cols_t]\n",
    "\n",
    "cols_h = ['Source', 'Topic', 'Facebook', 'GooglePlus', 'LinkedIn', 'num_words_h', 'num_unique_words_h', 'num_chars_h', 'mean_word_len_h', 'polarity_h', 'subjectivity_h', 'hour', 'weekday']\n",
    "train_X2 = train[cols_h]\n",
    "test_X2 = test[cols_h]"
   ]
  },
  {
   "cell_type": "code",
   "execution_count": 29,
   "metadata": {
    "colab": {
     "base_uri": "https://localhost:8080/",
     "height": 222
    },
    "id": "tIl9YUoSh5qD",
    "outputId": "31fcfecb-b400-49fa-9b26-616f07921810"
   },
   "outputs": [
    {
     "data": {
      "text/html": [
       "<div>\n",
       "<style scoped>\n",
       "    .dataframe tbody tr th:only-of-type {\n",
       "        vertical-align: middle;\n",
       "    }\n",
       "\n",
       "    .dataframe tbody tr th {\n",
       "        vertical-align: top;\n",
       "    }\n",
       "\n",
       "    .dataframe thead th {\n",
       "        text-align: right;\n",
       "    }\n",
       "</style>\n",
       "<table border=\"1\" class=\"dataframe\">\n",
       "  <thead>\n",
       "    <tr style=\"text-align: right;\">\n",
       "      <th></th>\n",
       "      <th>Source</th>\n",
       "      <th>Topic</th>\n",
       "      <th>Facebook</th>\n",
       "      <th>GooglePlus</th>\n",
       "      <th>LinkedIn</th>\n",
       "      <th>num_words_t</th>\n",
       "      <th>num_unique_words_t</th>\n",
       "      <th>num_chars_t</th>\n",
       "      <th>mean_word_len_t</th>\n",
       "      <th>polarity_t</th>\n",
       "      <th>subjectivity_t</th>\n",
       "      <th>hour</th>\n",
       "      <th>weekday</th>\n",
       "    </tr>\n",
       "  </thead>\n",
       "  <tbody>\n",
       "    <tr>\n",
       "      <th>0</th>\n",
       "      <td>1.257700</td>\n",
       "      <td>0.841443</td>\n",
       "      <td>-0.184044</td>\n",
       "      <td>-0.262649</td>\n",
       "      <td>-0.199608</td>\n",
       "      <td>-0.25916</td>\n",
       "      <td>-0.304674</td>\n",
       "      <td>-0.572741</td>\n",
       "      <td>-0.612986</td>\n",
       "      <td>0.0</td>\n",
       "      <td>0.0</td>\n",
       "      <td>-1.699073</td>\n",
       "      <td>-0.795924</td>\n",
       "    </tr>\n",
       "    <tr>\n",
       "      <th>1</th>\n",
       "      <td>-1.314091</td>\n",
       "      <td>-1.108773</td>\n",
       "      <td>-0.184044</td>\n",
       "      <td>-0.262649</td>\n",
       "      <td>-0.199608</td>\n",
       "      <td>-1.66871</td>\n",
       "      <td>-1.721687</td>\n",
       "      <td>-1.629606</td>\n",
       "      <td>0.274360</td>\n",
       "      <td>0.0</td>\n",
       "      <td>0.0</td>\n",
       "      <td>-1.699073</td>\n",
       "      <td>1.338369</td>\n",
       "    </tr>\n",
       "    <tr>\n",
       "      <th>2</th>\n",
       "      <td>-1.314091</td>\n",
       "      <td>-1.108773</td>\n",
       "      <td>-0.184044</td>\n",
       "      <td>-0.262649</td>\n",
       "      <td>-0.199608</td>\n",
       "      <td>-1.19886</td>\n",
       "      <td>-1.249349</td>\n",
       "      <td>-1.035120</td>\n",
       "      <td>0.328687</td>\n",
       "      <td>0.0</td>\n",
       "      <td>0.0</td>\n",
       "      <td>-1.699073</td>\n",
       "      <td>1.338369</td>\n",
       "    </tr>\n",
       "    <tr>\n",
       "      <th>3</th>\n",
       "      <td>0.468412</td>\n",
       "      <td>-1.108773</td>\n",
       "      <td>-0.184044</td>\n",
       "      <td>-0.262649</td>\n",
       "      <td>-0.199608</td>\n",
       "      <td>-1.66871</td>\n",
       "      <td>-1.249349</td>\n",
       "      <td>-2.224092</td>\n",
       "      <td>-1.436950</td>\n",
       "      <td>0.0</td>\n",
       "      <td>0.0</td>\n",
       "      <td>-1.699073</td>\n",
       "      <td>1.871942</td>\n",
       "    </tr>\n",
       "    <tr>\n",
       "      <th>4</th>\n",
       "      <td>1.029071</td>\n",
       "      <td>-1.108773</td>\n",
       "      <td>-0.184044</td>\n",
       "      <td>-0.262649</td>\n",
       "      <td>-0.199608</td>\n",
       "      <td>1.15039</td>\n",
       "      <td>1.112340</td>\n",
       "      <td>1.012556</td>\n",
       "      <td>-0.296077</td>\n",
       "      <td>0.0</td>\n",
       "      <td>0.0</td>\n",
       "      <td>-1.699073</td>\n",
       "      <td>1.871942</td>\n",
       "    </tr>\n",
       "  </tbody>\n",
       "</table>\n",
       "</div>"
      ],
      "text/plain": [
       "     Source     Topic  Facebook  ...  subjectivity_t      hour   weekday\n",
       "0  1.257700  0.841443 -0.184044  ...             0.0 -1.699073 -0.795924\n",
       "1 -1.314091 -1.108773 -0.184044  ...             0.0 -1.699073  1.338369\n",
       "2 -1.314091 -1.108773 -0.184044  ...             0.0 -1.699073  1.338369\n",
       "3  0.468412 -1.108773 -0.184044  ...             0.0 -1.699073  1.871942\n",
       "4  1.029071 -1.108773 -0.184044  ...             0.0 -1.699073  1.871942\n",
       "\n",
       "[5 rows x 13 columns]"
      ]
     },
     "execution_count": 29,
     "metadata": {},
     "output_type": "execute_result"
    }
   ],
   "source": [
    "train_X1.head()"
   ]
  },
  {
   "cell_type": "code",
   "execution_count": 30,
   "metadata": {
    "colab": {
     "base_uri": "https://localhost:8080/",
     "height": 222
    },
    "id": "XB3XX7-KiAWM",
    "outputId": "3ac95597-72b1-43b1-b754-7f2355e9b8bf"
   },
   "outputs": [
    {
     "data": {
      "text/html": [
       "<div>\n",
       "<style scoped>\n",
       "    .dataframe tbody tr th:only-of-type {\n",
       "        vertical-align: middle;\n",
       "    }\n",
       "\n",
       "    .dataframe tbody tr th {\n",
       "        vertical-align: top;\n",
       "    }\n",
       "\n",
       "    .dataframe thead th {\n",
       "        text-align: right;\n",
       "    }\n",
       "</style>\n",
       "<table border=\"1\" class=\"dataframe\">\n",
       "  <thead>\n",
       "    <tr style=\"text-align: right;\">\n",
       "      <th></th>\n",
       "      <th>Source</th>\n",
       "      <th>Topic</th>\n",
       "      <th>Facebook</th>\n",
       "      <th>GooglePlus</th>\n",
       "      <th>LinkedIn</th>\n",
       "      <th>num_words_h</th>\n",
       "      <th>num_unique_words_h</th>\n",
       "      <th>num_chars_h</th>\n",
       "      <th>mean_word_len_h</th>\n",
       "      <th>polarity_h</th>\n",
       "      <th>subjectivity_h</th>\n",
       "      <th>hour</th>\n",
       "      <th>weekday</th>\n",
       "    </tr>\n",
       "  </thead>\n",
       "  <tbody>\n",
       "    <tr>\n",
       "      <th>0</th>\n",
       "      <td>1.257700</td>\n",
       "      <td>0.841443</td>\n",
       "      <td>-0.184044</td>\n",
       "      <td>-0.262649</td>\n",
       "      <td>-0.199608</td>\n",
       "      <td>-0.285960</td>\n",
       "      <td>-0.526779</td>\n",
       "      <td>-0.490565</td>\n",
       "      <td>-1.058634</td>\n",
       "      <td>0.000000</td>\n",
       "      <td>0.000000</td>\n",
       "      <td>-1.699073</td>\n",
       "      <td>-0.795924</td>\n",
       "    </tr>\n",
       "    <tr>\n",
       "      <th>1</th>\n",
       "      <td>-1.314091</td>\n",
       "      <td>-1.108773</td>\n",
       "      <td>-0.184044</td>\n",
       "      <td>-0.262649</td>\n",
       "      <td>-0.199608</td>\n",
       "      <td>-0.285960</td>\n",
       "      <td>-0.232528</td>\n",
       "      <td>-0.317704</td>\n",
       "      <td>-0.175984</td>\n",
       "      <td>0.100000</td>\n",
       "      <td>0.200000</td>\n",
       "      <td>-1.699073</td>\n",
       "      <td>1.338369</td>\n",
       "    </tr>\n",
       "    <tr>\n",
       "      <th>2</th>\n",
       "      <td>-1.314091</td>\n",
       "      <td>-1.108773</td>\n",
       "      <td>-0.184044</td>\n",
       "      <td>-0.262649</td>\n",
       "      <td>-0.199608</td>\n",
       "      <td>-0.413322</td>\n",
       "      <td>-0.673904</td>\n",
       "      <td>-0.300418</td>\n",
       "      <td>0.618402</td>\n",
       "      <td>0.000000</td>\n",
       "      <td>0.041667</td>\n",
       "      <td>-1.699073</td>\n",
       "      <td>1.338369</td>\n",
       "    </tr>\n",
       "    <tr>\n",
       "      <th>3</th>\n",
       "      <td>0.468412</td>\n",
       "      <td>-1.108773</td>\n",
       "      <td>-0.184044</td>\n",
       "      <td>-0.262649</td>\n",
       "      <td>-0.199608</td>\n",
       "      <td>0.096128</td>\n",
       "      <td>0.061723</td>\n",
       "      <td>0.304596</td>\n",
       "      <td>0.843478</td>\n",
       "      <td>-0.166667</td>\n",
       "      <td>0.166667</td>\n",
       "      <td>-1.699073</td>\n",
       "      <td>1.871942</td>\n",
       "    </tr>\n",
       "    <tr>\n",
       "      <th>4</th>\n",
       "      <td>1.029071</td>\n",
       "      <td>-1.108773</td>\n",
       "      <td>-0.184044</td>\n",
       "      <td>-0.262649</td>\n",
       "      <td>-0.199608</td>\n",
       "      <td>0.223490</td>\n",
       "      <td>0.208849</td>\n",
       "      <td>0.391026</td>\n",
       "      <td>0.618402</td>\n",
       "      <td>0.133333</td>\n",
       "      <td>0.380556</td>\n",
       "      <td>-1.699073</td>\n",
       "      <td>1.871942</td>\n",
       "    </tr>\n",
       "  </tbody>\n",
       "</table>\n",
       "</div>"
      ],
      "text/plain": [
       "     Source     Topic  Facebook  ...  subjectivity_h      hour   weekday\n",
       "0  1.257700  0.841443 -0.184044  ...        0.000000 -1.699073 -0.795924\n",
       "1 -1.314091 -1.108773 -0.184044  ...        0.200000 -1.699073  1.338369\n",
       "2 -1.314091 -1.108773 -0.184044  ...        0.041667 -1.699073  1.338369\n",
       "3  0.468412 -1.108773 -0.184044  ...        0.166667 -1.699073  1.871942\n",
       "4  1.029071 -1.108773 -0.184044  ...        0.380556 -1.699073  1.871942\n",
       "\n",
       "[5 rows x 13 columns]"
      ]
     },
     "execution_count": 30,
     "metadata": {},
     "output_type": "execute_result"
    }
   ],
   "source": [
    "train_X2.head()"
   ]
  },
  {
   "cell_type": "code",
   "execution_count": 31,
   "metadata": {
    "colab": {
     "base_uri": "https://localhost:8080/"
    },
    "id": "QWEA4kiliKb-",
    "outputId": "43b86a75-2ff5-4945-ea24-d351ea8849b6"
   },
   "outputs": [
    {
     "name": "stdout",
     "output_type": "stream",
     "text": [
      "(55932, 13)\n",
      "(37288, 13)\n"
     ]
    }
   ],
   "source": [
    "print(np.shape(train_X1))\n",
    "print(np.shape(test_X1))"
   ]
  },
  {
   "cell_type": "code",
   "execution_count": 32,
   "metadata": {
    "colab": {
     "base_uri": "https://localhost:8080/"
    },
    "id": "PsGweej5ipnF",
    "outputId": "9a9a5212-e5f7-4384-f098-9b4f72fa3d80"
   },
   "outputs": [
    {
     "name": "stdout",
     "output_type": "stream",
     "text": [
      "(55932, 13)\n",
      "(37288, 13)\n"
     ]
    }
   ],
   "source": [
    "print(np.shape(train_X2))\n",
    "print(np.shape(test_X2))"
   ]
  },
  {
   "cell_type": "code",
   "execution_count": 33,
   "metadata": {
    "colab": {
     "base_uri": "https://localhost:8080/"
    },
    "id": "F8ZUxDyxiYYj",
    "outputId": "70f8894a-b965-4e85-b968-645365558e7c"
   },
   "outputs": [
    {
     "name": "stdout",
     "output_type": "stream",
     "text": [
      "(55932, 25377)\n",
      "(37288, 25377)\n"
     ]
    }
   ],
   "source": [
    "print(np.shape(train_v_Title))\n",
    "print(np.shape(test_v_Title))"
   ]
  },
  {
   "cell_type": "code",
   "execution_count": 34,
   "metadata": {
    "colab": {
     "base_uri": "https://localhost:8080/"
    },
    "id": "Haa0q5c7ixK6",
    "outputId": "e80a92a8-1839-4bdd-cda3-e8f720cf7bd2"
   },
   "outputs": [
    {
     "name": "stdout",
     "output_type": "stream",
     "text": [
      "(55932, 38787)\n",
      "(37288, 38787)\n"
     ]
    }
   ],
   "source": [
    "print(np.shape(train_v_Headline))\n",
    "print(np.shape(test_v_Headline))"
   ]
  },
  {
   "cell_type": "code",
   "execution_count": 35,
   "metadata": {
    "id": "XYKCjsgAchdd"
   },
   "outputs": [],
   "source": [
    "train_X_Title = hstack([train_v_Title, csr_matrix(train_X1.values)])\n",
    "test_X_Title = hstack([test_v_Title, csr_matrix(test_X1.values)])\n",
    "y1 = train['SentimentTitle']\n",
    "\n",
    "train_X_Headline = hstack([train_v_Headline, csr_matrix(train_X2.values)])\n",
    "test_X_Headline = hstack([test_v_Headline, csr_matrix(test_X2.values)])\n",
    "y2 = train['SentimentHeadline']"
   ]
  },
  {
   "cell_type": "code",
   "execution_count": 36,
   "metadata": {
    "colab": {
     "base_uri": "https://localhost:8080/"
    },
    "id": "VBHNhB1knWrV",
    "outputId": "c072ad77-b7ca-4b5a-8766-a056d1c7f326"
   },
   "outputs": [
    {
     "data": {
      "text/plain": [
       "(55932, 25390)"
      ]
     },
     "execution_count": 36,
     "metadata": {},
     "output_type": "execute_result"
    }
   ],
   "source": [
    "\n",
    "np.shape(train_X_Title)"
   ]
  },
  {
   "cell_type": "markdown",
   "metadata": {
    "id": "Yy8f0hUYNmAI"
   },
   "source": [
    "Apply Machine Learning Models"
   ]
  },
  {
   "cell_type": "code",
   "execution_count": 37,
   "metadata": {
    "colab": {
     "base_uri": "https://localhost:8080/"
    },
    "id": "pysOEnMtNXpa",
    "outputId": "d39884d1-71c6-4350-8882-f211856b7d93"
   },
   "outputs": [
    {
     "name": "stdout",
     "output_type": "stream",
     "text": [
      "MAE: 0.9433240546197318\n"
     ]
    },
    {
     "name": "stderr",
     "output_type": "stream",
     "text": [
      "/usr/local/lib/python3.7/dist-packages/sklearn/svm/_base.py:947: ConvergenceWarning: Liblinear failed to converge, increase the number of iterations.\n",
      "  \"the number of iterations.\", ConvergenceWarning)\n"
     ]
    }
   ],
   "source": [
    "# LinearSVR model for SentimentTitle\n",
    "\n",
    "X_train, X_test, y_train, y_test = train_test_split(train_X_Title, y1, test_size=0.20, random_state=42)\n",
    "\n",
    "clf1 = LinearSVR(C=0.2)\n",
    "clf1.fit(X_train, y_train)\n",
    "\n",
    "y_pred1 = clf1.predict(X_test)\n",
    "mae1 = mean_absolute_error(y_pred1, y_test)\n",
    "print('MAE:', 1 - mae1)"
   ]
  },
  {
   "cell_type": "code",
   "execution_count": 38,
   "metadata": {
    "colab": {
     "base_uri": "https://localhost:8080/"
    },
    "id": "kZBAbRcvN5I2",
    "outputId": "3fe9e20c-bd71-4637-bfe4-78581cd5a84a"
   },
   "outputs": [
    {
     "name": "stdout",
     "output_type": "stream",
     "text": [
      "MAE: 0.9291620731015077\n"
     ]
    },
    {
     "name": "stderr",
     "output_type": "stream",
     "text": [
      "/usr/local/lib/python3.7/dist-packages/sklearn/svm/_base.py:947: ConvergenceWarning: Liblinear failed to converge, increase the number of iterations.\n",
      "  \"the number of iterations.\", ConvergenceWarning)\n"
     ]
    }
   ],
   "source": [
    "# LinearSVR model for SentimentHeadline\n",
    "\n",
    "X_train, X_test, y_train, y_test = train_test_split(train_X_Headline, y2, test_size=0.20, random_state=42)\n",
    "\n",
    "clf2 = LinearSVR(C=0.1)\n",
    "clf2.fit(X_train, y_train)\n",
    "\n",
    "y_pred2 = clf2.predict(X_test)\n",
    "mae2 = mean_absolute_error(y_pred2, y_test)\n",
    "print('MAE:', 1 - mae2)"
   ]
  },
  {
   "cell_type": "code",
   "execution_count": 39,
   "metadata": {
    "colab": {
     "base_uri": "https://localhost:8080/"
    },
    "id": "tPYzcJkndTDH",
    "outputId": "7bf22737-1b0b-421b-d02c-0721fa4f63c4"
   },
   "outputs": [
    {
     "name": "stdout",
     "output_type": "stream",
     "text": [
      "MAE: 0.9348268657087972\n"
     ]
    }
   ],
   "source": [
    "print('MAE:', 1 - ((0.4 * mae1) + (0.6 * mae2)))"
   ]
  },
  {
   "cell_type": "markdown",
   "metadata": {
    "id": "klVR88ZMoXCL"
   },
   "source": [
    "Make predictions for test dataset"
   ]
  },
  {
   "cell_type": "code",
   "execution_count": 40,
   "metadata": {
    "id": "JbTfoZeUdb6R"
   },
   "outputs": [],
   "source": [
    "title = clf1.predict(test_X_Title)\n",
    "headline = clf2.predict(test_X_Headline)"
   ]
  },
  {
   "cell_type": "markdown",
   "metadata": {
    "id": "hNgGFbhZoSEI"
   },
   "source": [
    "Save results in csv"
   ]
  },
  {
   "cell_type": "code",
   "execution_count": 41,
   "metadata": {
    "id": "sEgf1XLjflp8"
   },
   "outputs": [],
   "source": [
    "df = pd.DataFrame()\n",
    "df['IDLink'] = test_id\n",
    "df['SentimentTitle'] = title\n",
    "df['SentimentHeadline'] = headline\n",
    "df.to_csv('/content/submit1.csv', index=False)"
   ]
  },
  {
   "cell_type": "code",
   "execution_count": null,
   "metadata": {
    "id": "jDnZ9rUgkc1G"
   },
   "outputs": [],
   "source": []
  }
 ],
 "metadata": {
  "accelerator": "TPU",
  "colab": {
   "collapsed_sections": [],
   "name": "NewsSentiment.ipynb",
   "provenance": []
  },
  "kernelspec": {
   "display_name": "Python 3",
   "language": "python",
   "name": "python3"
  },
  "language_info": {
   "codemirror_mode": {
    "name": "ipython",
    "version": 3
   },
   "file_extension": ".py",
   "mimetype": "text/x-python",
   "name": "python",
   "nbconvert_exporter": "python",
   "pygments_lexer": "ipython3",
   "version": "3.7.9"
  }
 },
 "nbformat": 4,
 "nbformat_minor": 1
}